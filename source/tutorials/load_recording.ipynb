{
 "cells": [
  {
   "cell_type": "markdown",
   "metadata": {},
   "source": [
    "# Load a Neon recording\n",
    "In this tutorial, we will show how to load a single Neon recording downloaded from [Pupil Cloud](https://docs.pupil-labs.com/neon/pupil-cloud/)."
   ]
  },
  {
   "cell_type": "markdown",
   "metadata": {},
   "source": [
    "To download sample code, execute __pyneon/sample_data.py__ or call ``get_sample_data(NAME)``"
   ]
  },
  {
   "cell_type": "code",
   "execution_count": 52,
   "metadata": {},
   "outputs": [
    {
     "name": "stdout",
     "output_type": "stream",
     "text": [
      "C:\\Users\\jan-gabriel.hartel\\Documents\\GitHub\\PyNeon\\data\n"
     ]
    }
   ],
   "source": [
    "from pyneon import get_sample_data\n",
    "\n",
    "# all paths are relative to the location of the notebook\n",
    "dataset_path = get_sample_data('OfficeWalk')"
   ]
  },
  {
   "cell_type": "markdown",
   "metadata": {},
   "source": [
    "``get_sample_data`` yields the relative path of the dataset. We can define the path to one particular recording manually. Alternatively, we can also define a path directly"
   ]
  },
  {
   "cell_type": "code",
   "execution_count": 53,
   "metadata": {},
   "outputs": [],
   "source": [
    "recording_path = dataset_path / 'Timeseries Data' /'walk1-e116e606'\n",
    "\n",
    "# recording_path = r'..\\..\\data\\OfficeWalk\\Timeseries Data\\walk1-e116e606'"
   ]
  },
  {
   "cell_type": "markdown",
   "metadata": {},
   "source": [
    "Next, we can load one recording from the dataset. Printing it provides us with extensive information about the recording including metadata and a summary of underlying objects"
   ]
  },
  {
   "cell_type": "code",
   "execution_count": 54,
   "metadata": {},
   "outputs": [
    {
     "name": "stdout",
     "output_type": "stream",
     "text": [
      "\n",
      "Recording ID: e116e606-5f3f-4d34-8727-040b8762cef8\n",
      "Wearer ID: bcff2832-cfcb-4f89-abef-7bbfe91ec561\n",
      "Wearer name: Qian\n",
      "Recording start time: 2024-08-30 17:37:01.527000\n",
      "Recording duration: 98.213 s\n",
      "                  exist              filename                                                                                                                     path\n",
      "3d_eye_states      True     3d_eye_states.csv     C:\\Users\\jan-gabriel.hartel\\Documents\\GitHub\\PyNeon\\data\\OfficeWalk\\Timeseries Data\\walk1-e116e606\\3d_eye_states.csv\n",
      "blinks             True            blinks.csv            C:\\Users\\jan-gabriel.hartel\\Documents\\GitHub\\PyNeon\\data\\OfficeWalk\\Timeseries Data\\walk1-e116e606\\blinks.csv\n",
      "events             True            events.csv            C:\\Users\\jan-gabriel.hartel\\Documents\\GitHub\\PyNeon\\data\\OfficeWalk\\Timeseries Data\\walk1-e116e606\\events.csv\n",
      "fixations          True         fixations.csv         C:\\Users\\jan-gabriel.hartel\\Documents\\GitHub\\PyNeon\\data\\OfficeWalk\\Timeseries Data\\walk1-e116e606\\fixations.csv\n",
      "gaze               True              gaze.csv              C:\\Users\\jan-gabriel.hartel\\Documents\\GitHub\\PyNeon\\data\\OfficeWalk\\Timeseries Data\\walk1-e116e606\\gaze.csv\n",
      "imu                True               imu.csv               C:\\Users\\jan-gabriel.hartel\\Documents\\GitHub\\PyNeon\\data\\OfficeWalk\\Timeseries Data\\walk1-e116e606\\imu.csv\n",
      "labels             True            labels.csv            C:\\Users\\jan-gabriel.hartel\\Documents\\GitHub\\PyNeon\\data\\OfficeWalk\\Timeseries Data\\walk1-e116e606\\labels.csv\n",
      "saccades           True          saccades.csv          C:\\Users\\jan-gabriel.hartel\\Documents\\GitHub\\PyNeon\\data\\OfficeWalk\\Timeseries Data\\walk1-e116e606\\saccades.csv\n",
      "world_timestamps   True  world_timestamps.csv  C:\\Users\\jan-gabriel.hartel\\Documents\\GitHub\\PyNeon\\data\\OfficeWalk\\Timeseries Data\\walk1-e116e606\\world_timestamps.csv\n",
      "scene_video       False                  None                                                                                                                     None\n",
      "\n"
     ]
    }
   ],
   "source": [
    "from pyneon import NeonRecording\n",
    "\n",
    "recording = NeonRecording(recording_path)\n",
    "\n",
    "print(recording)"
   ]
  },
  {
   "cell_type": "markdown",
   "metadata": {},
   "source": [
    "Each recording file has an associated object. Calling its .data attribute yields a pandas dataframe with all the included data"
   ]
  },
  {
   "cell_type": "code",
   "execution_count": 55,
   "metadata": {},
   "outputs": [
    {
     "name": "stdout",
     "output_type": "stream",
     "text": [
      "<pyneon.data.NeonGaze object at 0x0000024D1A2D0230>\n",
      "            timestamp [ns]  gaze x [px]  ...  elevation [deg]   time [s]\n",
      "0      1725032224852161732     1067.486  ...        -0.748998   0.000000\n",
      "1      1725032224857165732     1066.920  ...        -0.511733   0.005004\n",
      "2      1725032224862161732     1072.699  ...        -0.426618   0.010000\n",
      "3      1725032224867161732     1067.447  ...        -0.508251   0.015000\n",
      "4      1725032224872161732     1071.564  ...        -0.260388   0.020000\n",
      "...                    ...          ...  ...              ...        ...\n",
      "18764  1725032319717194732      800.364  ...       -11.091931  94.865033\n",
      "18765  1725032319722198732      799.722  ...       -10.470156  94.870037\n",
      "18766  1725032319727194732      799.901  ...       -10.832782  94.875033\n",
      "18767  1725032319732194732      796.982  ...       -10.903787  94.880033\n",
      "18768  1725032319737194732      797.285  ...       -10.923870  94.885033\n",
      "\n",
      "[18769 rows x 9 columns]\n"
     ]
    }
   ],
   "source": [
    "print(recording.gaze)\n",
    "print(recording.gaze.data)"
   ]
  },
  {
   "cell_type": "markdown",
   "metadata": {},
   "source": [
    "Let us see what else we can do with the data. One consideration is that realistic devices might drop data points due to a variety of reasons. We can compare the nominal and effective sampling rates for two continuous data streams: .gaze and .imu"
   ]
  },
  {
   "cell_type": "code",
   "execution_count": 56,
   "metadata": {},
   "outputs": [
    {
     "name": "stdout",
     "output_type": "stream",
     "text": [
      "Gaze: nominal sampling rate = 200, effective sampling rate = 197.8078038925275\n",
      "IMU: nominal sampling rate = 110, effective sampling rate = 115.35532450871617\n"
     ]
    }
   ],
   "source": [
    "print(f'Gaze: nominal sampling rate = {recording.gaze.sampling_freq_nominal}, effective sampling rate = {recording.gaze.sampling_freq_effective}')\n",
    "print(f'IMU: nominal sampling rate = {recording.imu.sampling_freq_nominal}, effective sampling rate = {recording.imu.sampling_freq_effective}')"
   ]
  },
  {
   "cell_type": "markdown",
   "metadata": {},
   "source": [
    "We can see that the effective sampling rate in the Gaze recording is lower than the nominal. For imu, the effective rate is actually higher.\n",
    "We can further explore this behaviour by plotting the distances between subsequent datapoints as a histogram. Dataframes can be operated upon with regular pandas logic"
   ]
  },
  {
   "cell_type": "code",
   "execution_count": 57,
   "metadata": {},
   "outputs": [
    {
     "data": {
      "text/plain": [
       "Text(0.010090909090909091, 100, 'IMU nominal sampling rate')"
      ]
     },
     "execution_count": 57,
     "metadata": {},
     "output_type": "execute_result"
    },
    {
     "data": {
      "image/png": "[encoded data removed]",
      "text/plain": [
       "<Figure size 1200x600 with 1 Axes>"
      ]
     },
     "metadata": {},
     "output_type": "display_data"
    }
   ],
   "source": [
    "import numpy as np\n",
    "\n",
    "import matplotlib.pyplot as plt\n",
    "\n",
    "# Get the data points\n",
    "gaze_times = recording.gaze.data['time [s]'].values\n",
    "imu_times = recording.imu.data['time [s]'].values\n",
    "\n",
    "# Calculate the distances between subsequent data points\n",
    "gaze_diffs = np.diff(gaze_times)\n",
    "imu_diffs = np.diff(imu_times)\n",
    "\n",
    "# Plot the differences as a histogram\n",
    "plt.figure(figsize=(12, 6))\n",
    "plt.hist(imu_diffs, bins=20, alpha=0.5, label='IMU')\n",
    "plt.hist(gaze_diffs, bins=10, alpha=0.8, label='Gaze')\n",
    "# create a logaritmic scale on the y-axis\n",
    "plt.yscale('log')\n",
    "plt.legend()\n",
    "plt.title('Histogram of time differences between subsequent data points')\n",
    "plt.xlabel('Time difference [s]')\n",
    "plt.ylabel('Count')\n",
    "\n",
    "# draw a vertical line at the nominal sampling rate, add text\n",
    "plt.axvline(1/recording.gaze.sampling_freq_nominal, color='k', linestyle='dashed', linewidth=2)\n",
    "plt.text(1/recording.gaze.sampling_freq_nominal, 1, 'Gaze nominal sampling rate', rotation=90, verticalalignment='bottom', horizontalalignment='right')\n",
    "plt.axvline(1/recording.imu.sampling_freq_nominal, color='k', linestyle='dashed', linewidth=2)\n",
    "plt.text(1/recording.imu.sampling_freq_nominal+0.001, 100, 'IMU nominal sampling rate', rotation=90, verticalalignment='bottom', horizontalalignment='left')"
   ]
  },
  {
   "cell_type": "markdown",
   "metadata": {},
   "source": [
    "We can clearly see that the Gaze data only has a low number of erroneous higher time differences. In contrast, the time differences for imu data are distributed all over the place, so __be cautious when using it__. See also the resample_and_concat tutorial where this problem is addressed"
   ]
  },
  {
   "cell_type": "markdown",
   "metadata": {},
   "source": [
    "Of course, we can already do preliminary analysis of data on this single recording basis. For example, we might be interested in the distribution of fixations in time and space. For this, we will read fixation data and subsequently create both a histogram for durations as well as a scatterplot for the x- and y-coordinates"
   ]
  },
  {
   "cell_type": "code",
   "execution_count": 60,
   "metadata": {},
   "outputs": [
    {
     "ename": "AttributeError",
     "evalue": "'NeonRecording' object has no attribute 'fixations'",
     "output_type": "error",
     "traceback": [
      "\u001b[1;31m---------------------------------------------------------------------------\u001b[0m",
      "\u001b[1;31mAttributeError\u001b[0m                            Traceback (most recent call last)",
      "Cell \u001b[1;32mIn[60], line 1\u001b[0m\n\u001b[1;32m----> 1\u001b[0m \u001b[38;5;28mprint\u001b[39m(\u001b[43mrecording\u001b[49m\u001b[38;5;241;43m.\u001b[39;49m\u001b[43mfixations\u001b[49m\u001b[38;5;241m.\u001b[39mdata)\n\u001b[0;32m      3\u001b[0m \u001b[38;5;66;03m#durations = recording.fixations.data['duration [s]'].values\u001b[39;00m\n\u001b[0;32m      4\u001b[0m \u001b[38;5;66;03m#xs = recording.fixations.data['start [s]'].values\u001b[39;00m\n",
      "\u001b[1;31mAttributeError\u001b[0m: 'NeonRecording' object has no attribute 'fixations'"
     ]
    }
   ],
   "source": [
    "print(recording.fixations.data)\n",
    "\n",
    "#durations = recording.fixations.data['duration [s]'].values\n",
    "#xs = recording.fixations.data['start [s]'].values"
   ]
  }
 ],
 "metadata": {
  "kernelspec": {
   "display_name": "pyneon",
   "language": "python",
   "name": "python3"
  },
  "language_info": {
   "codemirror_mode": {
    "name": "ipython",
    "version": 3
   },
   "file_extension": ".py",
   "mimetype": "text/x-python",
   "name": "python",
   "nbconvert_exporter": "python",
   "pygments_lexer": "ipython3",
   "version": "3.12.5"
  }
 },
 "nbformat": 4,
 "nbformat_minor": 2
}
