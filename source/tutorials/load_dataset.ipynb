{
 "cells": [
  {
   "cell_type": "markdown",
   "metadata": {},
   "source": [
    "# Load a Neon dataset (Pupil Cloud project)\n",
    "In this tutorial, we will show how to load a Neon dataset downloaded from [Pupil Cloud](https://docs.pupil-labs.com/neon/pupil-cloud/)."
   ]
  },
  {
   "cell_type": "code",
   "execution_count": 16,
   "metadata": {},
   "outputs": [
    {
     "name": "stdout",
     "output_type": "stream",
     "text": [
      "C:\\Users\\jan-gabriel.hartel\\Documents\\GitHub\\PyNeon\\data\n"
     ]
    }
   ],
   "source": [
    "from pyneon import get_sample_data\n",
    "\n",
    "# all paths are relative to the location of the notebook\n",
    "dataset_path = get_sample_data('OfficeWalk') / 'Timeseries Data'"
   ]
  },
  {
   "cell_type": "markdown",
   "metadata": {},
   "source": [
    "We can now create a NeonDataset object with the corresponding dataset_path"
   ]
  },
  {
   "cell_type": "code",
   "execution_count": 17,
   "metadata": {},
   "outputs": [],
   "source": [
    "from pyneon import NeonDataset\n",
    "\n",
    "# create a dataset object\n",
    "dataset = NeonDataset(dataset_path)"
   ]
  },
  {
   "cell_type": "markdown",
   "metadata": {},
   "source": [
    "We can see which recordings are included within this dataset by calling dataset.recordings"
   ]
  },
  {
   "cell_type": "code",
   "execution_count": 18,
   "metadata": {},
   "outputs": [
    {
     "name": "stdout",
     "output_type": "stream",
     "text": [
      "[\n",
      "Recording ID: 93b8c234-6bbe-4764-a745-e7aafb7e1709\n",
      "Wearer ID: bcff2832-cfcb-4f89-abef-7bbfe91ec561\n",
      "Wearer name: Qian\n",
      "Recording start time: 2024-08-30 17:39:23.736000\n",
      "Recording duration: 57.32 s\n",
      "                  exist              filename                                                                                                                     path\n",
      "3d_eye_states      True     3d_eye_states.csv     C:\\Users\\jan-gabriel.hartel\\Documents\\GitHub\\PyNeon\\data\\OfficeWalk\\Timeseries Data\\walk2-93b8c234\\3d_eye_states.csv\n",
      "blinks             True            blinks.csv            C:\\Users\\jan-gabriel.hartel\\Documents\\GitHub\\PyNeon\\data\\OfficeWalk\\Timeseries Data\\walk2-93b8c234\\blinks.csv\n",
      "events             True            events.csv            C:\\Users\\jan-gabriel.hartel\\Documents\\GitHub\\PyNeon\\data\\OfficeWalk\\Timeseries Data\\walk2-93b8c234\\events.csv\n",
      "fixations          True         fixations.csv         C:\\Users\\jan-gabriel.hartel\\Documents\\GitHub\\PyNeon\\data\\OfficeWalk\\Timeseries Data\\walk2-93b8c234\\fixations.csv\n",
      "gaze               True              gaze.csv              C:\\Users\\jan-gabriel.hartel\\Documents\\GitHub\\PyNeon\\data\\OfficeWalk\\Timeseries Data\\walk2-93b8c234\\gaze.csv\n",
      "imu                True               imu.csv               C:\\Users\\jan-gabriel.hartel\\Documents\\GitHub\\PyNeon\\data\\OfficeWalk\\Timeseries Data\\walk2-93b8c234\\imu.csv\n",
      "labels             True            labels.csv            C:\\Users\\jan-gabriel.hartel\\Documents\\GitHub\\PyNeon\\data\\OfficeWalk\\Timeseries Data\\walk2-93b8c234\\labels.csv\n",
      "saccades           True          saccades.csv          C:\\Users\\jan-gabriel.hartel\\Documents\\GitHub\\PyNeon\\data\\OfficeWalk\\Timeseries Data\\walk2-93b8c234\\saccades.csv\n",
      "world_timestamps   True  world_timestamps.csv  C:\\Users\\jan-gabriel.hartel\\Documents\\GitHub\\PyNeon\\data\\OfficeWalk\\Timeseries Data\\walk2-93b8c234\\world_timestamps.csv\n",
      "scene_video       False                  None                                                                                                                     None\n",
      ", \n",
      "Recording ID: e116e606-5f3f-4d34-8727-040b8762cef8\n",
      "Wearer ID: bcff2832-cfcb-4f89-abef-7bbfe91ec561\n",
      "Wearer name: Qian\n",
      "Recording start time: 2024-08-30 17:37:01.527000\n",
      "Recording duration: 98.213 s\n",
      "                  exist              filename                                                                                                                     path\n",
      "3d_eye_states      True     3d_eye_states.csv     C:\\Users\\jan-gabriel.hartel\\Documents\\GitHub\\PyNeon\\data\\OfficeWalk\\Timeseries Data\\walk1-e116e606\\3d_eye_states.csv\n",
      "blinks             True            blinks.csv            C:\\Users\\jan-gabriel.hartel\\Documents\\GitHub\\PyNeon\\data\\OfficeWalk\\Timeseries Data\\walk1-e116e606\\blinks.csv\n",
      "events             True            events.csv            C:\\Users\\jan-gabriel.hartel\\Documents\\GitHub\\PyNeon\\data\\OfficeWalk\\Timeseries Data\\walk1-e116e606\\events.csv\n",
      "fixations          True         fixations.csv         C:\\Users\\jan-gabriel.hartel\\Documents\\GitHub\\PyNeon\\data\\OfficeWalk\\Timeseries Data\\walk1-e116e606\\fixations.csv\n",
      "gaze               True              gaze.csv              C:\\Users\\jan-gabriel.hartel\\Documents\\GitHub\\PyNeon\\data\\OfficeWalk\\Timeseries Data\\walk1-e116e606\\gaze.csv\n",
      "imu                True               imu.csv               C:\\Users\\jan-gabriel.hartel\\Documents\\GitHub\\PyNeon\\data\\OfficeWalk\\Timeseries Data\\walk1-e116e606\\imu.csv\n",
      "labels             True            labels.csv            C:\\Users\\jan-gabriel.hartel\\Documents\\GitHub\\PyNeon\\data\\OfficeWalk\\Timeseries Data\\walk1-e116e606\\labels.csv\n",
      "saccades           True          saccades.csv          C:\\Users\\jan-gabriel.hartel\\Documents\\GitHub\\PyNeon\\data\\OfficeWalk\\Timeseries Data\\walk1-e116e606\\saccades.csv\n",
      "world_timestamps   True  world_timestamps.csv  C:\\Users\\jan-gabriel.hartel\\Documents\\GitHub\\PyNeon\\data\\OfficeWalk\\Timeseries Data\\walk1-e116e606\\world_timestamps.csv\n",
      "scene_video       False                  None                                                                                                                     None\n",
      "]\n"
     ]
    }
   ],
   "source": [
    "print(dataset.recordings)"
   ]
  },
  {
   "cell_type": "markdown",
   "metadata": {},
   "source": [
    "Alternatively, we can access a single recording by calling the dataset with an integer argument"
   ]
  },
  {
   "cell_type": "code",
   "execution_count": 19,
   "metadata": {},
   "outputs": [
    {
     "name": "stdout",
     "output_type": "stream",
     "text": [
      "\n",
      "Recording ID: 93b8c234-6bbe-4764-a745-e7aafb7e1709\n",
      "Wearer ID: bcff2832-cfcb-4f89-abef-7bbfe91ec561\n",
      "Wearer name: Qian\n",
      "Recording start time: 2024-08-30 17:39:23.736000\n",
      "Recording duration: 57.32 s\n",
      "                  exist              filename                                                                                                                     path\n",
      "3d_eye_states      True     3d_eye_states.csv     C:\\Users\\jan-gabriel.hartel\\Documents\\GitHub\\PyNeon\\data\\OfficeWalk\\Timeseries Data\\walk2-93b8c234\\3d_eye_states.csv\n",
      "blinks             True            blinks.csv            C:\\Users\\jan-gabriel.hartel\\Documents\\GitHub\\PyNeon\\data\\OfficeWalk\\Timeseries Data\\walk2-93b8c234\\blinks.csv\n",
      "events             True            events.csv            C:\\Users\\jan-gabriel.hartel\\Documents\\GitHub\\PyNeon\\data\\OfficeWalk\\Timeseries Data\\walk2-93b8c234\\events.csv\n",
      "fixations          True         fixations.csv         C:\\Users\\jan-gabriel.hartel\\Documents\\GitHub\\PyNeon\\data\\OfficeWalk\\Timeseries Data\\walk2-93b8c234\\fixations.csv\n",
      "gaze               True              gaze.csv              C:\\Users\\jan-gabriel.hartel\\Documents\\GitHub\\PyNeon\\data\\OfficeWalk\\Timeseries Data\\walk2-93b8c234\\gaze.csv\n",
      "imu                True               imu.csv               C:\\Users\\jan-gabriel.hartel\\Documents\\GitHub\\PyNeon\\data\\OfficeWalk\\Timeseries Data\\walk2-93b8c234\\imu.csv\n",
      "labels             True            labels.csv            C:\\Users\\jan-gabriel.hartel\\Documents\\GitHub\\PyNeon\\data\\OfficeWalk\\Timeseries Data\\walk2-93b8c234\\labels.csv\n",
      "saccades           True          saccades.csv          C:\\Users\\jan-gabriel.hartel\\Documents\\GitHub\\PyNeon\\data\\OfficeWalk\\Timeseries Data\\walk2-93b8c234\\saccades.csv\n",
      "world_timestamps   True  world_timestamps.csv  C:\\Users\\jan-gabriel.hartel\\Documents\\GitHub\\PyNeon\\data\\OfficeWalk\\Timeseries Data\\walk2-93b8c234\\world_timestamps.csv\n",
      "scene_video       False                  None                                                                                                                     None\n",
      "\n"
     ]
    }
   ],
   "source": [
    "Recording_1 = dataset.recordings[0]\n",
    "Recording_2 = dataset.recordings[1]\n",
    "\n",
    "print(Recording_1)\n"
   ]
  },
  {
   "cell_type": "markdown",
   "metadata": {},
   "source": [
    "On the single recording level, data can be operated like specified in the load_recording.ipynb tutorial"
   ]
  }
 ],
 "metadata": {
  "kernelspec": {
   "display_name": "pyneon",
   "language": "python",
   "name": "python3"
  },
  "language_info": {
   "codemirror_mode": {
    "name": "ipython",
    "version": 3
   },
   "file_extension": ".py",
   "mimetype": "text/x-python",
   "name": "python",
   "nbconvert_exporter": "python",
   "pygments_lexer": "ipython3",
   "version": "3.12.5"
  }
 },
 "nbformat": 4,
 "nbformat_minor": 2
}
