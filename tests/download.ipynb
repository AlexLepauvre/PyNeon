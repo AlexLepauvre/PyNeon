{
 "cells": [
  {
   "cell_type": "code",
   "execution_count": 1,
   "metadata": {},
   "outputs": [
    {
     "name": "stdout",
     "output_type": "stream",
     "text": [
      "ZIP file downloaded successfully and saved as downloaded_file.zip\n",
      "File unzipped successfully!\n"
     ]
    }
   ],
   "source": [
    "import requests\n",
    "import zipfile\n",
    "import os\n",
    "\n",
    "# Replace with the direct link to the OSF ZIP file\n",
    "zip_file_url = \"https://osf.io/download/3gvyp/\"  # Example placeholder link\n",
    "output_file_path = \"downloaded_file.zip\"\n",
    "\n",
    "# Download the ZIP file\n",
    "response = requests.get(zip_file_url)\n",
    "\n",
    "# Save the downloaded content to a local file\n",
    "with open(output_file_path, \"wb\") as file:\n",
    "    file.write(response.content)\n",
    "\n",
    "print(f\"ZIP file downloaded successfully and saved as {output_file_path}\")\n",
    "\n",
    "# Optional: Unzip the file\n",
    "with zipfile.ZipFile(output_file_path, \"r\") as zip_ref:\n",
    "    zip_ref.extractall(\"unzipped_files\")  # Folder to extract contents into\n",
    "\n",
    "print(\"File unzipped successfully!\")"
   ]
  }
 ],
 "metadata": {
  "kernelspec": {
   "display_name": "neon",
   "language": "python",
   "name": "python3"
  },
  "language_info": {
   "codemirror_mode": {
    "name": "ipython",
    "version": 3
   },
   "file_extension": ".py",
   "mimetype": "text/x-python",
   "name": "python",
   "nbconvert_exporter": "python",
   "pygments_lexer": "ipython3",
   "version": "3.12.3"
  }
 },
 "nbformat": 4,
 "nbformat_minor": 2
}
